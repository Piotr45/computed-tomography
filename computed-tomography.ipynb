{
 "cells": [
  {
   "cell_type": "markdown",
   "source": [
    "# Tomografia komputerowa"
   ],
   "metadata": {
    "collapsed": false,
    "pycharm": {
     "name": "#%% md\n"
    }
   }
  },
  {
   "cell_type": "code",
   "execution_count": 36,
   "outputs": [],
   "source": [
    "import cv2\n",
    "import numpy as np\n",
    "from ct.radon import radon\n",
    "from ct.inverse_radon import iradon\n",
    "from ct.common import *\n",
    "from ct.ct import CT\n",
    "from ct.interactive_ct import InteractiveCT\n",
    "from ct.common import preprocess\n",
    "from ipywidgets import IntText, interact, Checkbox, Text, VBox\n",
    "import matplotlib.pyplot as plt"
   ],
   "metadata": {
    "collapsed": false,
    "pycharm": {
     "name": "#%%\n"
    }
   }
  },
  {
   "cell_type": "code",
   "execution_count": 25,
   "outputs": [],
   "source": [
    "style = {'description_width': 'initial'}\n",
    "steps = IntText(\n",
    "    value=1,\n",
    "    min=1,\n",
    "    max=180,\n",
    "    step=1,\n",
    "    description='Krok: ',\n",
    "    disabled=False,\n",
    "    style=style\n",
    ")\n",
    "number_of_detectors = IntText(\n",
    "    value=10,\n",
    "    min=1,\n",
    "    step=1,\n",
    "    description='Liczba detektorów: ',\n",
    "    disabled=False,\n",
    "    style=style\n",
    ")\n",
    "detector_distance = IntText(\n",
    "    value=10,\n",
    "    min=1,\n",
    "    step=1,\n",
    "    description='Rozpiętość między detektorami (px): ',\n",
    "    disabled=False,\n",
    "    style=style\n",
    ")\n",
    "interactive = Checkbox(\n",
    "    value=False,\n",
    "    description='Wersja interaktywna',\n",
    "    disabled=False,\n",
    "    indent=False\n",
    ")\n",
    "filename = Text(\n",
    "    description='Ścieżka do pliku',\n",
    "    style=style\n",
    ")"
   ],
   "metadata": {
    "collapsed": false,
    "pycharm": {
     "name": "#%%\n"
    }
   }
  },
  {
   "cell_type": "markdown",
   "source": [
    "## Menu"
   ],
   "metadata": {
    "collapsed": false,
    "pycharm": {
     "name": "#%% md\n"
    }
   }
  },
  {
   "cell_type": "code",
   "execution_count": 26,
   "outputs": [
    {
     "data": {
      "text/plain": "VBox(children=(Text(value='', description='Ścieżka do pliku', style=DescriptionStyle(description_width='initia…",
      "application/vnd.jupyter.widget-view+json": {
       "version_major": 2,
       "version_minor": 0,
       "model_id": "61d4c91a76e248e591e7d4f7535fbbd3"
      }
     },
     "metadata": {},
     "output_type": "display_data"
    }
   ],
   "source": [
    "VBox([filename, steps, number_of_detectors, detector_distance, interactive])"
   ],
   "metadata": {
    "collapsed": false,
    "pycharm": {
     "name": "#%%\n"
    }
   }
  },
  {
   "cell_type": "code",
   "execution_count": 37,
   "outputs": [],
   "source": [
    "# image = preprocess.load_image(filename.value)\n",
    "image = preprocess.load_example(1)\n",
    "\n",
    "if interactive.value is True:\n",
    "    ct = InteractiveCT(image, steps.value, 1, number_of_detectors.value, detector_distance.value)\n",
    "else:\n",
    "    ct = CT(image, steps.value, 1, number_of_detectors.value, detector_distance.value)\n",
    "\n",
    "sinogram, reconstructed_image = ct.run()"
   ],
   "metadata": {
    "collapsed": false,
    "pycharm": {
     "name": "#%%\n"
    }
   }
  },
  {
   "cell_type": "code",
   "execution_count": 58,
   "outputs": [
    {
     "data": {
      "text/plain": "<Figure size 432x288 with 3 Axes>",
      "image/png": "[encoded data removed]"
     },
     "metadata": {
      "needs_background": "light"
     },
     "output_type": "display_data"
    }
   ],
   "source": [
    "fig, ax = plt.subplots(1, 3)\n",
    "\n",
    "ax[0] = plt.imshow(reconstructed_image, cmap='bone')\n",
    "ax[1] = plt.imshow(sinogram, cmap='bone')\n"
   ],
   "metadata": {
    "collapsed": false,
    "pycharm": {
     "name": "#%%\n"
    }
   }
  }
 ],
 "metadata": {
  "kernelspec": {
   "display_name": "Python 3",
   "language": "python",
   "name": "python3"
  },
  "language_info": {
   "codemirror_mode": {
    "name": "ipython",
    "version": 2
   },
   "file_extension": ".py",
   "mimetype": "text/x-python",
   "name": "python",
   "nbconvert_exporter": "python",
   "pygments_lexer": "ipython2",
   "version": "2.7.6"
  }
 },
 "nbformat": 4,
 "nbformat_minor": 0
}